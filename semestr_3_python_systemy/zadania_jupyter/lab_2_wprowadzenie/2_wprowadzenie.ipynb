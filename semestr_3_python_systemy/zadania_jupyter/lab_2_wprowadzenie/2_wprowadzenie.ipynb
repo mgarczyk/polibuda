{
 "cells": [
  {
   "cell_type": "markdown",
   "metadata": {},
   "source": [
    "----\n",
    "# Wprowadzenie - część 2\n",
    "----\n",
    "Materiały dydaktyczne przeznaczone są wyłącznie dla studentów wydziału Informatyki i Telekomunikacji Politechniki Poznańskiej "
   ]
  },
  {
   "cell_type": "markdown",
   "metadata": {},
   "source": [
    "## 0. Zagadnienia do opanowania przed zajęciami\n",
    "### 0.1. Zapoznanie z podstawami językiem programowania *Python*\n",
    "https://www.w3schools.com/python/python_intro.asp  \n",
    "### 0.2. Zapoznanie z postawami biblioteki *numpy*\n",
    "https://www.w3schools.com/python/numpy_intro.asp  \n",
    "https://numpy.org/devdocs/user/quickstart.html  "
   ]
  },
  {
   "cell_type": "code",
   "execution_count": 1,
   "metadata": {},
   "outputs": [],
   "source": [
    "%matplotlib inline\n",
    "import numpy as np\n",
    "import matplotlib.pyplot as plt\n",
    "default_figsize=(14, 8)\n",
    "\n",
    "test_vec =  np.array([-1, 1, 0, 4, -3, -6, 7, 9, 1, 4, -9, -5])\n",
    "test_poly = np.poly1d([1, 2, -5])"
   ]
  },
  {
   "cell_type": "markdown",
   "metadata": {},
   "source": [
    "----\n",
    "## 1. Zadania do samodzielnego wykonania\n",
    "----\n",
    "### Zadanie A\n",
    "Napisz i przetestuj funkcję traktującą wejściowy wektor jako próbki przebiegu funkcji i rysującą jej wykres w postaci punktów z 10% zapasem na osi.\n"
   ]
  },
  {
   "cell_type": "code",
   "execution_count": 2,
   "metadata": {},
   "outputs": [
    {
     "name": "stdout",
     "output_type": "stream",
     "text": [
      "Wektor:  [-1  1  0  4 -3 -6  7  9  1  4 -9 -5]\n"
     ]
    },
    {
     "data": {
      "image/png": "[encoded data removed]",
      "text/plain": [
       "<Figure size 432x288 with 1 Axes>"
      ]
     },
     "metadata": {
      "needs_background": "light"
     },
     "output_type": "display_data"
    }
   ],
   "source": [
    "#każdej wartośći funkcji przypisujemy jedno miejce\n",
    "def taskA(y):\n",
    "    default_figsize=(14, 8)\n",
    "    y =  np.array([-1, 1, 0, 4, -3, -6, 7, 9, 1, 4, -9, -5])\n",
    "    ln_y = len(y) #długość wektora y\n",
    "    x = np.linspace(0, ln_y, ln_y) #jako x określamy zbiór od 0 do długości wektora, jego ilość elmentów jest taka sama jak wektora\n",
    "    ln_x = len(x) #długość wektora x ze zbiorem wartości\n",
    "    #print(ln_y - ln_x)\n",
    "    fig = plt.figure()\n",
    "    plt.plot(x,y,'rx') #dla koljenych x przypisujemy wartości funkcji - ro (kółka), rx (krzyżyki)\n",
    "    print(\"Wektor: \" ,y)\n",
    "    return\n",
    "\n",
    "taskA(test_vec)\n"
   ]
  },
  {
   "cell_type": "markdown",
   "metadata": {},
   "source": [
    "### Zadanie B\n",
    "Napisz i przetestuj funkcję sortującą i wypisującą elementy wektora wejściowego w porządku zgodnym ze wzrostem modułu.  \n",
    "\n",
    "Demonstaracja działania najpopularniejszych algorytmów sortowania https://www.toptal.com/developers/sorting-algorithms/\n"
   ]
  },
  {
   "cell_type": "code",
   "execution_count": 3,
   "metadata": {
    "tags": []
   },
   "outputs": [
    {
     "name": "stdout",
     "output_type": "stream",
     "text": [
      "[ 0 -1  1  1 -3  4  4 -5 -6  7  9 -9]\n"
     ]
    }
   ],
   "source": [
    "def taskB(data):\n",
    "    len_data = len(data)\n",
    "    for i in range (len_data-1):\n",
    "        for j in range(0, len_data-i-1):\n",
    "             if abs(data[j]) > abs(data[j + 1]) :\n",
    "                data[j], data[j + 1] = data[j + 1], data[j]\n",
    "    print(data)\n",
    "\n",
    "taskB(test_vec)"
   ]
  },
  {
   "cell_type": "markdown",
   "metadata": {},
   "source": [
    "### Zadanie C\n",
    "Napisz i przetestuj funkcję wyznaczającą pierwiastki wielomianu kwadratowego opisanego wektorem wejściowym (uwaga - nie wolno wykorzystywać funkcji roots), oraz generującą jego wykres (w zakresie $<-4,4>$)."
   ]
  },
  {
   "cell_type": "code",
   "execution_count": 4,
   "metadata": {
    "tags": []
   },
   "outputs": [
    {
     "name": "stdout",
     "output_type": "stream",
     "text": [
      "x1:  1.4494897427831779\n",
      "x2:  -3.449489742783178\n"
     ]
    },
    {
     "data": {
      "image/png": "[encoded data removed]",
      "text/plain": [
       "<Figure size 432x288 with 1 Axes>"
      ]
     },
     "metadata": {
      "needs_background": "light"
     },
     "output_type": "display_data"
    }
   ],
   "source": [
    "import math\n",
    "\n",
    "def taskC(polynom):\n",
    "    a = polynom[2] #x^2\n",
    "    b = polynom[1] #x\n",
    "    c = polynom[0]   #wyraz wolny - bierze w takiej kolejności jak wielomian, a nie jak wektor x^2 + 2x - 5\n",
    "    delta = (-b)**2 - 4*a*c\n",
    "    x1 = (-b + np.sqrt(delta))/(2*a)\n",
    "    x2 = (-b - np.sqrt(delta))/(2*a)\n",
    "    print (\"x1: \", x1)\n",
    "    print (\"x2: \", x2)\n",
    "    x = np.linspace(-4,4,100) #zbiór wartości x\n",
    "    f_x = polynom(x) #zbiór argumentów y\n",
    "    fig = plt.figure()\n",
    "    plt.plot(x,f_x, color=\"yellow\")\n",
    "    plt.grid()\n",
    "    plt.xlabel(\"x\")\n",
    "    plt.ylabel(\"f(x)\")\n",
    "    return\n",
    "\n",
    "taskC(test_poly)"
   ]
  },
  {
   "cell_type": "markdown",
   "metadata": {},
   "source": [
    "### Zadanie D\n",
    "Napisz i przetestuj funkcję o argumentach będących współczynnikami wielomianu kwadratowego oraz zakresem i dokładnością punktów dziedziny, wykreślającą ten wielomian w podanym zakresie."
   ]
  },
  {
   "cell_type": "code",
   "execution_count": 5,
   "metadata": {},
   "outputs": [],
   "source": [
    "def taskD(polynom, xrange, num_points):\n",
    "    return\n",
    "\n",
    "taskD(test_poly, [-6, 4], 400)"
   ]
  },
  {
   "cell_type": "markdown",
   "metadata": {},
   "source": [
    "----\n",
    "## 2. Zadania dodatkowe\n",
    "----\n",
    "### Zadanie\tE\n",
    "Napisz i przetestuj funkcję wyliczającą wyznacznik macierzy. Porównać z wynikami generowanymi przez funkcję det().\n",
    "### Zadanie\tF\n",
    "Napisz prosty kalkulator. Funkcja pobiera argument w postaci  polecenia, np. „3-6” i zwraca wynik działania. Zaimplementować operacje +.-,*,/. \n",
    "### Zadanie G\n",
    "Napisz funkcję tłumaczącą zapis wektorowy wielomianu na zapis tekstowy\n",
    "### Zadanie H\n",
    "Napisz funkcję rysującą trójkąt o zadanych (do wyboru):\n",
    "* długościach 3 boków (tw. cosinusów),\n",
    "* długościach 2 boków i kąta między nimi (łatwiej)."
   ]
  },
  {
   "cell_type": "code",
   "execution_count": 4,
   "metadata": {},
   "outputs": [
    {
     "data": {
      "text/plain": [
       "'Macierz oryginalna: '"
      ]
     },
     "metadata": {},
     "output_type": "display_data"
    },
    {
     "data": {
      "text/plain": [
       "array([[ 1,  2,  1],\n",
       "       [ 1,  1, 31],\n",
       "       [ 1,  3,  1]])"
      ]
     },
     "metadata": {},
     "output_type": "display_data"
    },
    {
     "name": "stdout",
     "output_type": "stream",
     "text": [
      "Wyznacznik policzony przy pomocy numpy:  -30.000000000000004\n"
     ]
    },
    {
     "data": {
      "text/plain": [
       "'Macierz górnotrójkątna: '"
      ]
     },
     "metadata": {},
     "output_type": "display_data"
    },
    {
     "data": {
      "text/plain": [
       "array([[ 1,  2,  1],\n",
       "       [ 0, -1, 30],\n",
       "       [ 0,  0, 30]])"
      ]
     },
     "metadata": {},
     "output_type": "display_data"
    },
    {
     "name": "stdout",
     "output_type": "stream",
     "text": [
      "Wyznacznik macierzy policzony bez użycia numpy:  -30.0\n"
     ]
    }
   ],
   "source": [
    "import numpy as np\n",
    "def determinant_E(M):\n",
    "    len_M = len(M) #wielkość macierz zakładamy że jest kwadratowa\n",
    "    copy_M = np.copy(M) #kopia macierzy z danymi\n",
    "    for fd in range (len_M): #fd elemnt z głównej przekątnej\n",
    "        for i in range(fd+1, len_M): #wierze poniżej fd w tej samej kolumnie\n",
    "            if copy_M[fd][fd] == 0:\n",
    "                copy_M[fd][fd] = 1.0e-18 #problem dzielenia przez 0\n",
    "            scaler = copy_M[i][fd] / copy_M[fd][fd] \n",
    "            for j in range(len_M):\n",
    "                copy_M[i][j] = copy_M[i][j] - scaler*copy_M[fd][j]\n",
    "    det = 1.0\n",
    "    display(\"Macierz górnotrójkątna: \", copy_M)\n",
    "    for i in range(len_M):\n",
    "        det*=copy_M[i][i] #iloczyn diagonalnej przekątnej\n",
    "    return det\n",
    "\n",
    "M = np.array(([1,2,1], [1,1,31], [1,3,1]))\n",
    "display(\"Macierz oryginalna: \", M)\n",
    "det_np = np.linalg.det(M)\n",
    "#jak będzie blisko 0 to wypisze 0, a nie coś dziwnego \n",
    "if np.allclose(det_np, 0):\n",
    "    print(0.0)\n",
    "else:\n",
    "    print(\"Wyznacznik policzony przy pomocy numpy: \", det_np)\n",
    "\n",
    "det = determinant_E(M)\n",
    "print (\"Wyznacznik macierzy policzony bez użycia numpy: \", det)\n",
    "\n",
    "\n",
    "# 1)Dla każdego wiersza poniżej wiersza zawierającego fd tworzymy przelicznik równy (element w wierszu, który jest w tej samej kolumnie co fd ) podzielony przez ( fd ).\n",
    "# 2)Aktualizujemy każdy wiersz poniżej wiersza z fd za pomocą (bieżący wiersz) – skaler * (wiersz z fd w nim).\n",
    "# 3)Spowoduje to przesunięcie elementów w każdym wierszu poniżej fd do 0.\n",
    "# 4)Kiedy przechodzimy do następnego fd , musimy tylko powtórzyć te kroki dla wierszy poniżej wiersza z bieżącym fd .\n",
    "#Gdy macierz jest w postaci górnego trójkąta, wyznacznikiem jest po prostu iloczyn wszystkich elementów na głównej przekątnej. "
   ]
  },
  {
   "cell_type": "code",
   "execution_count": 45,
   "metadata": {},
   "outputs": [
    {
     "name": "stdout",
     "output_type": "stream",
     "text": [
      "Wpisz trzy wartośći. Kolejno pierwszą liczbę, operację (+,-,*,/), drugą liczbę, dane podajemy ze spacją np. 2 * 3: 2 / 3\n",
      "Wynik:  0.6666666666666666\n"
     ]
    }
   ],
   "source": [
    "def calculator_F(x,operation,y):\n",
    "    result = 0\n",
    "    blad = false\n",
    "    if(operation == '+'):\n",
    "        result = x + y\n",
    "        print(add)\n",
    "    elif(operation == '-'):\n",
    "        result = x - y\n",
    "        \n",
    "    elif(operation == '*'):\n",
    "        result = x * y\n",
    "    elif(operation == '/'):\n",
    "        if y == 0: \n",
    "            print(\"ERROR. Division by 0 attempt.\")\n",
    "            blad = true\n",
    "        else: \n",
    "            result = x / y\n",
    "    else:\n",
    "        print (\"ERROR. Bad operation symbol.\")\n",
    "        blad = true\n",
    "        \n",
    "    if blad == false: \n",
    "        print(\"Wynik: \", result)\n",
    "    return\n",
    "\n",
    "x, operation, y = input(\"Wpisz trzy wartośći. Kolejno pierwszą liczbę, operację (+,-,*,/), drugą liczbę, dane podajemy ze spacją np. 2 * 3: \").split()\n",
    "x  = float(x)\n",
    "y = float(y)\n",
    "calculator_F(x,operation,y)"
   ]
  },
  {
   "cell_type": "code",
   "execution_count": 54,
   "metadata": {},
   "outputs": [
    {
     "name": "stdout",
     "output_type": "stream",
     "text": [
      "Zapis tekstowy:  f(x) =  -5x^5 + 2x^4 -1x^3 + 1x^1 + 6\n"
     ]
    }
   ],
   "source": [
    "    import numpy as np\n",
    "    def translator_G(poly):\n",
    "        len_poly = len(poly)\n",
    "        poly_text = \"\"\n",
    "        for i in range (len_poly+1): #pętla po długości tablicy ze współczynnikami wielomianu przy odpowienich potęgach\n",
    "            if i==0 and poly[i]>0: #wyraz wolny > 0\n",
    "                poly_text = \" + \" +  str(poly[0])  #dla wyrazy wolnego jeżeli nie jest to 0 dodaj bez x\n",
    "            elif i==0 and poly[i]<0: #wyraz wolny < 0\n",
    "                poly_text =  \" \" +  str(poly[0]) \n",
    "            elif i>0 and poly[i] > 0:  #kolejne współczynniki przy potęgach > 0\n",
    "                poly_text =  \" + \" + str(poly[i]) + \"x^\" + str(i) + str(poly_text) #dla kolejnych wyrazów dodawaj z odpowiednią potęg x\n",
    "            elif i>0 and poly[i] < 0: #kolejne współczynniki przy potęgach < 0\n",
    "                poly_text =  \" \" +  str(poly[i]) + \"x^\" + str(i) + str(poly_text)\n",
    "            elif i>=0 and poly[i] == 0: #dla zerowej wartości \n",
    "                poly_text =  \"\" + str(poly_text)\n",
    "        poly_text = \"f(x) = \" + str(poly_text)\n",
    "        print(\"Zapis tekstowy: \", poly_text)\n",
    "        return\n",
    "\n",
    "\n",
    "    poly = np.poly1d([-5,2,-1,0,1,6])\n",
    "    translator_G(poly)"
   ]
  },
  {
   "cell_type": "markdown",
   "metadata": {
    "scrolled": true
   },
   "source": []
  },
  {
   "cell_type": "code",
   "execution_count": 32,
   "metadata": {},
   "outputs": [
    {
     "name": "stdout",
     "output_type": "stream",
     "text": [
      "Rozwiązania równania czyli współrzędne x i y:  [(11/4, -3*sqrt(15)/4), (11/4, 3*sqrt(15)/4)]\n"
     ]
    },
    {
     "data": {
      "text/plain": [
       "'Współrzędne pierwsze x1 i y1: '"
      ]
     },
     "metadata": {},
     "output_type": "display_data"
    },
    {
     "data": {
      "text/plain": [
       "array([[0, 0],\n",
       "       [2, 0],\n",
       "       [11/4, -3*sqrt(15)/4]], dtype=object)"
      ]
     },
     "metadata": {},
     "output_type": "display_data"
    },
    {
     "data": {
      "text/plain": [
       "'Współrzędne drugie x2 i y2: '"
      ]
     },
     "metadata": {},
     "output_type": "display_data"
    },
    {
     "data": {
      "text/plain": [
       "array([[0, 0],\n",
       "       [2, 0],\n",
       "       [11/4, 3*sqrt(15)/4]], dtype=object)"
      ]
     },
     "metadata": {},
     "output_type": "display_data"
    },
    {
     "name": "stdout",
     "output_type": "stream",
     "text": [
      "Rysunek:\n"
     ]
    },
    {
     "data": {
      "text/plain": [
       "<Figure size 432x288 with 0 Axes>"
      ]
     },
     "metadata": {},
     "output_type": "display_data"
    },
    {
     "data": {
      "image/png": "[encoded data removed]",
      "text/plain": [
       "<Figure size 432x288 with 2 Axes>"
      ]
     },
     "metadata": {
      "needs_background": "light"
     },
     "output_type": "display_data"
    }
   ],
   "source": [
    "import numpy as np\n",
    "import matplotlib.pyplot as plt\n",
    "from sympy import *\n",
    "def draw_triangle(AB, BC, AC):\n",
    "    A = (0,0)\n",
    "    B = (AB, 0) #B przesunięty o długość boku\n",
    "    x,y = symbols('x y')\n",
    "    #szukamy x i y czyli przyrównujemy je do znanej długości boku odległość AC, \n",
    "    #za pomocą zależnośći P=(p1,p2), Q=(q1,q2) d=AC=sqrt((q1-p1)^2+(q2-p2)^2)\n",
    "    eq1 = Eq(x**2 + y**2, AC**2) #A=(0,0), #C=(x,y) odpowiednia w python lewa i prawa strona rówania jako argumenty funkcji\n",
    "    eq2 = Eq((x-AB)**2 + y**2, BC**2) #B=(AB,0), #C=(x,y)\n",
    "    C = (solve((eq1, eq2), (x,y))) #macierz rozwiązań\n",
    "    print (\"Rozwiązania równania czyli współrzędne x i y: \", C) #policzyliśmy brakujący nieznany nam punkt, a właściewie dwa\n",
    "    first_triangle = np.array((A, B, C[0])) #Macierz z pierwszym rozwiązaniem C[0] oznacza wybór rozwiązania\n",
    "    second_triangle = np.array((A, B, C[1]))\n",
    "    display(\"Współrzędne pierwsze x1 i y1: \",first_triangle)\n",
    "    display(\"Współrzędne drugie x2 i y2: \",second_triangle)\n",
    "    print(\"Rysunek:\")\n",
    "    first_draw = plt.Polygon((first_triangle))\n",
    "    second_draw = plt.Polygon((second_triangle))\n",
    "    figure = plt.figure()\n",
    "    fig, ax = plt.subplots(1, 2)\n",
    "    ax[0].add_patch(first_draw)\n",
    "    ax[0].grid()\n",
    "    ax[1].add_patch(second_draw)\n",
    "    ax[1].grid()\n",
    "    plt.setp(ax, xlim=[-5,5], ylim=[-5,5]) #ustawia limity do wszytkich subplotów naraz\n",
    "    return\n",
    "\n",
    "AB = 2\n",
    "BC = 3\n",
    "AC = 4\n",
    "draw_triangle(AB,BC,AC)"
   ]
  },
  {
   "cell_type": "code",
   "execution_count": null,
   "metadata": {},
   "outputs": [],
   "source": []
  }
 ],
 "metadata": {
  "kernelspec": {
   "display_name": "Python 3 (ipykernel)",
   "language": "python",
   "name": "python3"
  },
  "language_info": {
   "codemirror_mode": {
    "name": "ipython",
    "version": 3
   },
   "file_extension": ".py",
   "mimetype": "text/x-python",
   "name": "python",
   "nbconvert_exporter": "python",
   "pygments_lexer": "ipython3",
   "version": "3.8.10"
  }
 },
 "nbformat": 4,
 "nbformat_minor": 2
}
